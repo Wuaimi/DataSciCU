{
 "cells": [
  {
   "cell_type": "code",
   "execution_count": 3,
   "metadata": {},
   "outputs": [
    {
     "name": "stdout",
     "output_type": "stream",
     "text": [
      "99\n"
     ]
    }
   ],
   "source": [
    "import pandas as pd\n",
    "\n",
    "def main():\n",
    "    file = input(\"File name: \")\n",
    "    func = input(\"Question number: \")\n",
    "\n",
    "    data = pd.read_csv(file)\n",
    "    if func == 'Q1':\n",
    "        print(data.shape)\n",
    "    elif func == 'Q2':\n",
    "        print(data['score'].max())\n",
    "    elif func == 'Q3':\n",
    "        print((data['score'] >= 80).count())\n",
    "    else:\n",
    "        print('No Output')\n",
    "\n",
    "if __name__ == \"__main__\":\n",
    "    main()"
   ]
  }
 ],
 "metadata": {
  "kernelspec": {
   "display_name": "Python 3",
   "language": "python",
   "name": "python3"
  },
  "language_info": {
   "codemirror_mode": {
    "name": "ipython",
    "version": 3
   },
   "file_extension": ".py",
   "mimetype": "text/x-python",
   "name": "python",
   "nbconvert_exporter": "python",
   "pygments_lexer": "ipython3",
   "version": "3.12.6"
  }
 },
 "nbformat": 4,
 "nbformat_minor": 2
}
